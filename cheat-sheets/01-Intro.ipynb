{
 "metadata": {
  "name": "01-Intro"
 },
 "nbformat": 3,
 "nbformat_minor": 0,
 "worksheets": [
  {
   "cells": [
    {
     "cell_type": "markdown",
     "metadata": {},
     "source": [
      "## Python, IPython, and the basics + Codecademy Exercise 1\n",
      "\n",
      "\n",
      "* * * * *\n",
      "\n",
      "**Loosely Based on Lecture Materials By: Milad Fatenejad, Katy Huff, Joshua R. Smith, Tommy Guy, Will Trimble, and Many More**"
     ]
    },
    {
     "cell_type": "markdown",
     "metadata": {},
     "source": [
      "## Introduction\n",
      "\n",
      "You've just done some basic programming in python using Codecademy. Now, we are going to use an environment called IPython notebook. You can click on anything in this notebook and edit it, but...\n",
      "\n",
      "### Don't panic!\n",
      "\n",
      "*You can't break anything!* You can always get another copy of any notebook from the workshop on the [Python FUNdamentals repository](https://github.com/dlab-berkeley/python-fundamentals).\n",
      "\n",
      "### Reference materials:\n",
      "\n",
      "For reference material, please start with the README, also at the [Python FUNdamentals repository](https://github.com/dlab-berkeley/python-fundamentals). Hopefully, this is all starting to sound pretty simple."
     ]
    },
    {
     "cell_type": "markdown",
     "metadata": {},
     "source": [
      "Getting Started\n",
      "===============\n",
      "\n",
      "IPython has more useful features for interactive use than the standard python interpreter and Codecademy, but it works in the same basic way: you type things and then execute them. We'll use it from here on out.\n",
      "\n",
      "Unlike code academy, there is no button to run your code! Instead, **you run code using Shift-Enter**. This also moves you to the next box (or \"cell\") for code below the one you just ran (but this may change in the future).\n",
      "\n",
      "Try to **run the following code using Shift-Enter** now!"
     ]
    },
    {
     "cell_type": "code",
     "collapsed": true,
     "input": [
      "print \"Look Ma, I'm programming!\""
     ],
     "language": "python",
     "metadata": {},
     "outputs": []
    },
    {
     "cell_type": "raw",
     "metadata": {},
     "source": [
      "And how about this?"
     ]
    },
    {
     "cell_type": "code",
     "collapsed": false,
     "input": [
      "print \"Or am I"
     ],
     "language": "python",
     "metadata": {},
     "outputs": []
    },
    {
     "cell_type": "raw",
     "metadata": {},
     "source": [
      "As you can see, IPython offers proper error reporting. But don't worry - Python is just trying to help fix something it can't understand!"
     ]
    },
    {
     "cell_type": "markdown",
     "metadata": {},
     "source": [
      "## One more detail: Clearing IPython\n",
      "\n",
      "IPython remembers everything it executed, **even if it's not currently displayed in the notebook**.\n",
      "\n",
      "To clear everything from IPython use Kernel->Restart in the menu."
     ]
    },
    {
     "cell_type": "code",
     "collapsed": true,
     "input": [
      "mystring = \"And three shall be the count.\" \n",
      "\n",
      "print mystring"
     ],
     "language": "python",
     "metadata": {},
     "outputs": []
    },
    {
     "cell_type": "raw",
     "metadata": {},
     "source": [
      "Now use Kernel->Restart in the menu!"
     ]
    },
    {
     "cell_type": "code",
     "collapsed": true,
     "input": [
      "print mystring"
     ],
     "language": "python",
     "metadata": {},
     "outputs": []
    },
    {
     "cell_type": "markdown",
     "metadata": {},
     "source": [
      "Note that the error message contains a recap of the input that caused the error (with an arrow, no less!)   It is objecting that **mystring** is not defined, since we just reset it.\n",
      "\n",
      "Codecademy Exercise 1\n",
      "=====================\n",
      "\n",
      "All programming languages have variables, and python is no different. To create a variable, just name it and set it with the equals sign. One important caveat: variable names can only contain letters, numbers, and the underscore character. Let's set a variable."
     ]
    },
    {
     "cell_type": "code",
     "collapsed": true,
     "input": [
      "experiment = \"current vs. voltage\""
     ],
     "language": "python",
     "metadata": {},
     "outputs": []
    },
    {
     "cell_type": "code",
     "collapsed": true,
     "input": [
      "print experiment"
     ],
     "language": "python",
     "metadata": {},
     "outputs": []
    },
    {
     "cell_type": "code",
     "collapsed": true,
     "input": [
      "voltage = 2"
     ],
     "language": "python",
     "metadata": {},
     "outputs": []
    },
    {
     "cell_type": "code",
     "collapsed": true,
     "input": [
      "current = 0.5"
     ],
     "language": "python",
     "metadata": {},
     "outputs": []
    },
    {
     "cell_type": "code",
     "collapsed": true,
     "input": [
      "print voltage, current"
     ],
     "language": "python",
     "metadata": {},
     "outputs": []
    },
    {
     "cell_type": "markdown",
     "metadata": {},
     "source": [
      "## Types and Dynamic Typing\n",
      "\n",
      "\n",
      "\n",
      "Like most programming languages, things in python are typed. The type refers to the type of data (or **data type**). We've already defined three different types of data in experiment, voltage, and current. The types are string, integer, and float. You can inspect the type of a variable by using the type command.\n",
      "\n",
      "It's OK if you don't fully understand this part, and you shouldn't need to use `type` at all in your Codecademy exercises. But it's important stuff to really master Python!"
     ]
    },
    {
     "cell_type": "code",
     "collapsed": false,
     "input": [
      "type(\"current vs. voltage\")"
     ],
     "language": "python",
     "metadata": {},
     "outputs": []
    },
    {
     "cell_type": "code",
     "collapsed": false,
     "input": [
      "type(2)"
     ],
     "language": "python",
     "metadata": {},
     "outputs": []
    },
    {
     "cell_type": "code",
     "collapsed": false,
     "input": [
      "type(0.5)"
     ],
     "language": "python",
     "metadata": {},
     "outputs": []
    },
    {
     "cell_type": "code",
     "collapsed": true,
     "input": [
      "type(experiment)"
     ],
     "language": "python",
     "metadata": {},
     "outputs": []
    },
    {
     "cell_type": "code",
     "collapsed": true,
     "input": [
      "type(voltage)"
     ],
     "language": "python",
     "metadata": {},
     "outputs": []
    },
    {
     "cell_type": "code",
     "collapsed": true,
     "input": [
      "type(current)"
     ],
     "language": "python",
     "metadata": {},
     "outputs": []
    },
    {
     "cell_type": "markdown",
     "metadata": {},
     "source": [
      "Python is a dynamically typed language (unlike, say, C++). If you know what that means, you may be feeling some fear and loathing right now. If you don't know what dynamic typing means, the next stuff may seem esoteric and pedantic. Its actually important, but its importance may not be clear to you until long after this class is over.\n",
      "\n",
      "\n",
      "\n",
      "Dynamic typing means that you don't have to declare the type of a variable when you define it; python just figures it out based on how you are setting the variable. Lets say you set a variable. Sometime later you can just change the type of data assigned to a variable and python is perfectly happy about that. Since it won't be obvious until (possibly much) later why that's important, I'll let you marinate on that idea for a second. \n",
      "\n",
      "\n",
      "\n",
      "Here's an example of dynamic typing. What is the **data type** of voltage?"
     ]
    },
    {
     "cell_type": "code",
     "collapsed": true,
     "input": [
      "type(voltage)"
     ],
     "language": "python",
     "metadata": {},
     "outputs": []
    },
    {
     "cell_type": "markdown",
     "metadata": {},
     "source": [
      "Lets assign a value of 2.7 (which is clearly a float) to voltage. What happens to the type?"
     ]
    },
    {
     "cell_type": "code",
     "collapsed": true,
     "input": [
      "voltage = 2.7"
     ],
     "language": "python",
     "metadata": {},
     "outputs": []
    },
    {
     "cell_type": "code",
     "collapsed": true,
     "input": [
      "type(voltage)"
     ],
     "language": "python",
     "metadata": {},
     "outputs": []
    },
    {
     "cell_type": "markdown",
     "metadata": {},
     "source": [
      "You can even now assign a string to the variable voltage and python would be happy to comply."
     ]
    },
    {
     "cell_type": "code",
     "collapsed": true,
     "input": [
      "voltage = \"2.7 volts\""
     ],
     "language": "python",
     "metadata": {},
     "outputs": []
    },
    {
     "cell_type": "code",
     "collapsed": true,
     "input": [
      "type(voltage)"
     ],
     "language": "python",
     "metadata": {},
     "outputs": []
    },
    {
     "cell_type": "markdown",
     "metadata": {},
     "source": [
      "I'll let you ruminate on the pros and cons of this construction while I change the value of voltage back to an int:"
     ]
    },
    {
     "cell_type": "code",
     "collapsed": true,
     "input": [
      "voltage = 2"
     ],
     "language": "python",
     "metadata": {},
     "outputs": []
    },
    {
     "cell_type": "markdown",
     "metadata": {},
     "source": [
      "## Changing types: Coersion\n",
      "\n",
      "It is possible to coerce (a fancy and slightly menacing way to say \"convert\") certain types of data to other types. For example, its pretty straightforward to coerce numerical data to strings."
     ]
    },
    {
     "cell_type": "code",
     "collapsed": true,
     "input": [
      "voltageString = str(voltage)"
     ],
     "language": "python",
     "metadata": {},
     "outputs": []
    },
    {
     "cell_type": "code",
     "collapsed": true,
     "input": [
      "currentString = str(current)"
     ],
     "language": "python",
     "metadata": {},
     "outputs": []
    },
    {
     "cell_type": "code",
     "collapsed": true,
     "input": [
      "voltageString"
     ],
     "language": "python",
     "metadata": {},
     "outputs": []
    },
    {
     "cell_type": "code",
     "collapsed": true,
     "input": [
      "type(voltageString)"
     ],
     "language": "python",
     "metadata": {},
     "outputs": []
    },
    {
     "cell_type": "markdown",
     "metadata": {},
     "source": [
      "As you might imagine, you can go the other way in certain cases. Lets say you had numerical data in a string."
     ]
    },
    {
     "cell_type": "code",
     "collapsed": true,
     "input": [
      "resistanceString = \"4.0\""
     ],
     "language": "python",
     "metadata": {},
     "outputs": []
    },
    {
     "cell_type": "code",
     "collapsed": true,
     "input": [
      "resistance = float(resistanceString)"
     ],
     "language": "python",
     "metadata": {},
     "outputs": []
    },
    {
     "cell_type": "code",
     "collapsed": true,
     "input": [
      "resistance"
     ],
     "language": "python",
     "metadata": {},
     "outputs": []
    },
    {
     "cell_type": "code",
     "collapsed": true,
     "input": [
      "type(resistance)"
     ],
     "language": "python",
     "metadata": {},
     "outputs": []
    },
    {
     "cell_type": "markdown",
     "metadata": {},
     "source": [
      "What would happen if you tried to coerce resistanceString to an int? What about coercing resistance to an int? Consider the following:"
     ]
    },
    {
     "cell_type": "code",
     "collapsed": true,
     "input": [
      "resistanceString = \"4.0 ohms\""
     ],
     "language": "python",
     "metadata": {},
     "outputs": []
    },
    {
     "cell_type": "markdown",
     "metadata": {},
     "source": [
      "Do you think you can coerce that string to a numerical type?\n",
      "\n",
      "## GOTCHA: On Being Precise with floats and ints\n",
      "\n",
      "Again, the following may seem esoteric and pedantic, but it is very important. So bear with me.\n",
      "\n",
      "Let's say you had some voltage data that looks like the following\n",
      "\n",
      "``\n",
      "\n",
      "0\n",
      "\n",
      "0.5\n",
      "\n",
      "1\n",
      "\n",
      "1.5\n",
      "\n",
      "2\n",
      "\n",
      "``\n",
      "\n",
      "\n",
      "\n",
      "Obviously, if you just assigned this data individually to a variable, you'd end up with the following types\n",
      "\n",
      "``\n",
      "\n",
      "0   -> int\n",
      "\n",
      "0.5 -> float\n",
      "\n",
      "1   -> int\n",
      "\n",
      "1.5 -> float\n",
      "\n",
      "2   -> int\n",
      "\n",
      "``\n",
      "\n",
      "\n",
      "But what if you wanted all of that data to be floats on its way in? You could assign the variable and then coerce it to type float:"
     ]
    },
    {
     "cell_type": "code",
     "collapsed": true,
     "input": [
      "voltage = float(1)"
     ],
     "language": "python",
     "metadata": {},
     "outputs": []
    },
    {
     "cell_type": "markdown",
     "metadata": {},
     "source": [
      "But that's ugly. If you want what is otherwise an integer to be a float, just add a period at the end"
     ]
    },
    {
     "cell_type": "code",
     "collapsed": true,
     "input": [
      "voltage = 1."
     ],
     "language": "python",
     "metadata": {},
     "outputs": []
    },
    {
     "cell_type": "code",
     "collapsed": true,
     "input": [
      "type(voltage)"
     ],
     "language": "python",
     "metadata": {},
     "outputs": []
    },
    {
     "cell_type": "markdown",
     "metadata": {},
     "source": [
      "This point becomes important when we start operating on data in the next section.\n",
      "\n",
      "\n",
      "\n",
      "## Data Operations\n",
      "\n",
      "\n",
      "\n",
      "What's the point of data if we aren't going to do something with it?  Let's get computing."
     ]
    },
    {
     "cell_type": "code",
     "collapsed": true,
     "input": [
      "a = 1"
     ],
     "language": "python",
     "metadata": {},
     "outputs": []
    },
    {
     "cell_type": "code",
     "collapsed": true,
     "input": [
      "b = 2"
     ],
     "language": "python",
     "metadata": {},
     "outputs": []
    },
    {
     "cell_type": "code",
     "collapsed": true,
     "input": [
      "c = a + b"
     ],
     "language": "python",
     "metadata": {},
     "outputs": []
    },
    {
     "cell_type": "code",
     "collapsed": true,
     "input": [
      "c"
     ],
     "language": "python",
     "metadata": {},
     "outputs": []
    },
    {
     "cell_type": "code",
     "collapsed": true,
     "input": [
      "type(a), type(b), type(c)"
     ],
     "language": "python",
     "metadata": {},
     "outputs": []
    },
    {
     "cell_type": "markdown",
     "metadata": {},
     "source": [
      "So we got a value of three for the sum, which also happens to be an integer. Any operation between two integers is another integer. Makes sense.\n",
      "\n",
      "\n",
      "\n",
      "So what about the case where a is an integer and b is a float?"
     ]
    },
    {
     "cell_type": "code",
     "collapsed": true,
     "input": [
      "a = 1"
     ],
     "language": "python",
     "metadata": {},
     "outputs": []
    },
    {
     "cell_type": "code",
     "collapsed": true,
     "input": [
      "b = 2."
     ],
     "language": "python",
     "metadata": {},
     "outputs": []
    },
    {
     "cell_type": "code",
     "collapsed": true,
     "input": [
      "c = a + b"
     ],
     "language": "python",
     "metadata": {},
     "outputs": []
    },
    {
     "cell_type": "code",
     "collapsed": true,
     "input": [
      "c"
     ],
     "language": "python",
     "metadata": {},
     "outputs": []
    },
    {
     "cell_type": "code",
     "collapsed": true,
     "input": [
      "type(a), type(b), type(c)"
     ],
     "language": "python",
     "metadata": {},
     "outputs": []
    },
    {
     "cell_type": "markdown",
     "metadata": {},
     "source": [
      "You can do multiplication on numbers as well."
     ]
    },
    {
     "cell_type": "code",
     "collapsed": true,
     "input": [
      "a = 2"
     ],
     "language": "python",
     "metadata": {},
     "outputs": []
    },
    {
     "cell_type": "code",
     "collapsed": true,
     "input": [
      "b = 3"
     ],
     "language": "python",
     "metadata": {},
     "outputs": []
    },
    {
     "cell_type": "code",
     "collapsed": true,
     "input": [
      "c = a * b"
     ],
     "language": "python",
     "metadata": {},
     "outputs": []
    },
    {
     "cell_type": "code",
     "collapsed": true,
     "input": [
      "c"
     ],
     "language": "python",
     "metadata": {},
     "outputs": []
    },
    {
     "cell_type": "code",
     "collapsed": true,
     "input": [
      "type(a), type(b), type(c)"
     ],
     "language": "python",
     "metadata": {},
     "outputs": []
    },
    {
     "cell_type": "markdown",
     "metadata": {},
     "source": [
      "Also division."
     ]
    },
    {
     "cell_type": "code",
     "collapsed": true,
     "input": [
      "a = 1"
     ],
     "language": "python",
     "metadata": {},
     "outputs": []
    },
    {
     "cell_type": "code",
     "collapsed": true,
     "input": [
      "b = 2"
     ],
     "language": "python",
     "metadata": {},
     "outputs": []
    },
    {
     "cell_type": "code",
     "collapsed": true,
     "input": [
      "c = a / b"
     ],
     "language": "python",
     "metadata": {},
     "outputs": []
    },
    {
     "cell_type": "code",
     "collapsed": true,
     "input": [
      "c"
     ],
     "language": "python",
     "metadata": {},
     "outputs": []
    },
    {
     "cell_type": "markdown",
     "metadata": {},
     "source": [
      "**ZING!**\n",
      "\n",
      "\n",
      "\n",
      "This is why **data type** is important. Divding two integers returnes an integer: this operation calculates the quotient and floors the result to get the answer.\n",
      "\n",
      "\n",
      "\n",
      "If everything was a float, the division is what you would expect."
     ]
    },
    {
     "cell_type": "code",
     "collapsed": true,
     "input": [
      "a = 1."
     ],
     "language": "python",
     "metadata": {},
     "outputs": []
    },
    {
     "cell_type": "code",
     "collapsed": true,
     "input": [
      "b = 2."
     ],
     "language": "python",
     "metadata": {},
     "outputs": []
    },
    {
     "cell_type": "code",
     "collapsed": true,
     "input": [
      "c = a / b"
     ],
     "language": "python",
     "metadata": {},
     "outputs": []
    },
    {
     "cell_type": "code",
     "collapsed": true,
     "input": [
      "c"
     ],
     "language": "python",
     "metadata": {},
     "outputs": []
    },
    {
     "cell_type": "code",
     "collapsed": true,
     "input": [
      "type(a), type(b), type(c)"
     ],
     "language": "python",
     "metadata": {},
     "outputs": []
    },
    {
     "cell_type": "markdown",
     "metadata": {},
     "source": [
      "This is actually \"fixed\" in python 3, and you can pull this change in like so. For a beginner, I'd recommend *always* putting the following statement at the beginning of your scripts where you're doing a lot of math! (It'll make more sense later)"
     ]
    },
    {
     "cell_type": "code",
     "collapsed": false,
     "input": [
      "from __future__ import division"
     ],
     "language": "python",
     "metadata": {},
     "outputs": []
    },
    {
     "cell_type": "raw",
     "metadata": {},
     "source": [
      "Now we'll get a different kind of answer from division, even if both numbers are integers"
     ]
    },
    {
     "cell_type": "code",
     "collapsed": false,
     "input": [
      "1 / 2"
     ],
     "language": "python",
     "metadata": {},
     "outputs": []
    }
   ],
   "metadata": {}
  }
 ]
}