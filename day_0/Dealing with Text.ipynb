{
 "cells": [
  {
   "cell_type": "code",
   "execution_count": 1,
   "metadata": {
    "collapsed": true
   },
   "outputs": [],
   "source": [
    "import nltk"
   ]
  },
  {
   "cell_type": "code",
   "execution_count": 3,
   "metadata": {
    "collapsed": false
   },
   "outputs": [
    {
     "name": "stdout",
     "output_type": "stream",
     "text": [
      "This wasn't what I thought I'd do to-\n",
      "day\n"
     ]
    }
   ],
   "source": [
    "hyphen_across_lines = \"This wasn't what I thought I'd do to-\\nday\"\n",
    "print(hyphen_across_lines)"
   ]
  },
  {
   "cell_type": "code",
   "execution_count": 6,
   "metadata": {
    "collapsed": false
   },
   "outputs": [
    {
     "data": {
      "text/plain": [
       "['This', 'was', \"n't\", 'what', 'I', 'thought', 'I', \"'d\", 'do', 'to-', 'day']"
      ]
     },
     "execution_count": 6,
     "metadata": {},
     "output_type": "execute_result"
    }
   ],
   "source": [
    "nltk.word_tokenize(hyphen_across_lines)"
   ]
  },
  {
   "cell_type": "code",
   "execution_count": 5,
   "metadata": {
    "collapsed": false
   },
   "outputs": [
    {
     "name": "stdout",
     "output_type": "stream",
     "text": [
      "showing info http://www.nltk.org/nltk_data/\n"
     ]
    },
    {
     "data": {
      "text/plain": [
       "True"
      ]
     },
     "execution_count": 5,
     "metadata": {},
     "output_type": "execute_result"
    }
   ],
   "source": [
    "nltk.download()"
   ]
  },
  {
   "cell_type": "code",
   "execution_count": 8,
   "metadata": {
    "collapsed": false
   },
   "outputs": [
    {
     "name": "stdout",
     "output_type": "stream",
     "text": [
      "\u001b[0m\u001b[01;32mJayZ_American Gangster_American Dreamin.txt\u001b[0m*\r\n",
      "\u001b[01;32mJayZ_American Gangster_American Dreamin.txt.clean\u001b[0m*\r\n",
      "\u001b[01;32mJayZ_American Gangster_American Gangster.txt\u001b[0m*\r\n",
      "\u001b[01;32mJayZ_American Gangster_American Gangster.txt.clean\u001b[0m*\r\n",
      "\u001b[01;32mJayZ_American Gangster_Blue Magic.txt\u001b[0m*\r\n",
      "\u001b[01;32mJayZ_American Gangster_Blue Magic.txt.clean\u001b[0m*\r\n",
      "\u001b[01;32mJayZ_American Gangster_Fallin.txt\u001b[0m*\r\n",
      "\u001b[01;32mJayZ_American Gangster_Fallin.txt.clean\u001b[0m*\r\n",
      "\u001b[01;32mJayZ_American Gangster_Hello Brooklyn 20.txt\u001b[0m*\r\n",
      "\u001b[01;32mJayZ_American Gangster_Hello Brooklyn 20.txt.clean\u001b[0m*\r\n",
      "\u001b[01;32mJayZ_American Gangster_Ignorant Shit.txt\u001b[0m*\r\n",
      "\u001b[01;32mJayZ_American Gangster_Ignorant Shit.txt.clean\u001b[0m*\r\n",
      "\u001b[01;32mJayZ_American Gangster_I Know.txt\u001b[0m*\r\n",
      "\u001b[01;32mJayZ_American Gangster_I Know.txt.clean\u001b[0m*\r\n",
      "\u001b[01;32mJayZ_American Gangster_Intro.txt\u001b[0m*\r\n",
      "\u001b[01;32mJayZ_American Gangster_Intro.txt.clean\u001b[0m*\r\n",
      "\u001b[01;32mJayZ_American Gangster_No Hook.txt\u001b[0m*\r\n",
      "\u001b[01;32mJayZ_American Gangster_No Hook.txt.clean\u001b[0m*\r\n",
      "\u001b[01;32mJayZ_American Gangster_Party Life.txt\u001b[0m*\r\n",
      "\u001b[01;32mJayZ_American Gangster_Party Life.txt.clean\u001b[0m*\r\n",
      "\u001b[01;32mJayZ_American Gangster_Pray.txt\u001b[0m*\r\n",
      "\u001b[01;32mJayZ_American Gangster_Pray.txt.clean\u001b[0m*\r\n",
      "\u001b[01;32mJayZ_American Gangster_Say Hello.txt\u001b[0m*\r\n",
      "\u001b[01;32mJayZ_American Gangster_Say Hello.txt.clean\u001b[0m*\r\n",
      "\u001b[01;32mJayZ_American Gangster_Success.txt\u001b[0m*\r\n",
      "\u001b[01;32mJayZ_American Gangster_Success.txt.clean\u001b[0m*\r\n",
      "\u001b[01;32mJayZ_American Gangster_Sweet.txt\u001b[0m*\r\n",
      "\u001b[01;32mJayZ_American Gangster_Sweet.txt.clean\u001b[0m*\r\n",
      "\u001b[01;32mJayZ_Collision Course_Big Pimpin  Papercut.txt\u001b[0m*\r\n",
      "\u001b[01;32mJayZ_Collision Course_Big Pimpin  Papercut.txt.clean\u001b[0m*\r\n",
      "\u001b[01;32mJayZ_Collision Course_Dirt Off Your Shoulder  Lying From You.txt\u001b[0m*\r\n",
      "\u001b[01;32mJayZ_Collision Course_Dirt Off Your Shoulder  Lying From You.txt.clean\u001b[0m*\r\n",
      "\u001b[01;32mJayZ_Collision Course_Izzo  In The End.txt\u001b[0m*\r\n",
      "\u001b[01;32mJayZ_Collision Course_Izzo  In The End.txt.clean\u001b[0m*\r\n",
      "\u001b[01;32mJayZ_Collision Course_Jigga What  Faint.txt\u001b[0m*\r\n",
      "\u001b[01;32mJayZ_Collision Course_Jigga What  Faint.txt.clean\u001b[0m*\r\n",
      "\u001b[01;32mJayZ_Collision Course_Numb  Encore.txt\u001b[0m*\r\n",
      "\u001b[01;32mJayZ_Collision Course_Numb  Encore.txt.clean\u001b[0m*\r\n",
      "\u001b[01;32mJayZ_Collision Course_Points Of Authority  99 Problems  One Step Closer.txt\u001b[0m*\r\n",
      "\u001b[01;32mJayZ_Collision Course_Points Of Authority  99 Problems  One Step Closer.txt.clean\u001b[0m\u001b[K*\r\n",
      "\u001b[01;32mJayZ_In My Lifetime Vol. 1_Face Off.txt\u001b[0m*\r\n",
      "\u001b[01;32mJayZ_In My Lifetime Vol. 1_Face Off.txt.clean\u001b[0m*\r\n",
      "\u001b[01;32mJayZ_In My Lifetime Vol. 1_Friend Or Foe '98.txt\u001b[0m*\r\n",
      "\u001b[01;32mJayZ_In My Lifetime Vol. 1_Friend Or Foe '98.txt.clean\u001b[0m*\r\n",
      "\u001b[01;32mJayZ_In My Lifetime Vol. 1_I Know What Girls Like.txt\u001b[0m*\r\n",
      "\u001b[01;32mJayZ_In My Lifetime Vol. 1_I Know What Girls Like.txt.clean\u001b[0m*\r\n",
      "\u001b[01;32mJayZ_In My Lifetime Vol. 1_Imaginary Player.txt\u001b[0m*\r\n",
      "\u001b[01;32mJayZ_In My Lifetime Vol. 1_Imaginary Player.txt.clean\u001b[0m*\r\n",
      "\u001b[01;32mJayZ_In My Lifetime Vol. 1_Lucky Me.txt\u001b[0m*\r\n",
      "\u001b[01;32mJayZ_In My Lifetime Vol. 1_Lucky Me.txt.clean\u001b[0m*\r\n",
      "\u001b[01;32mJayZ_In My Lifetime Vol. 1_Real Niggaz.txt\u001b[0m*\r\n",
      "\u001b[01;32mJayZ_In My Lifetime Vol. 1_Real Niggaz.txt.clean\u001b[0m*\r\n",
      "\u001b[01;32mJayZ_In My Lifetime Vol. 1_Sunshine.txt\u001b[0m*\r\n",
      "\u001b[01;32mJayZ_In My Lifetime Vol. 1_Sunshine.txt.clean\u001b[0m*\r\n",
      "\u001b[01;32mJayZ_In My Lifetime Vol. 1_The Streets Is Watching.txt\u001b[0m*\r\n",
      "\u001b[01;32mJayZ_In My Lifetime Vol. 1_The Streets Is Watching.txt.clean\u001b[0m*\r\n",
      "\u001b[01;32mJayZ_In My Lifetime Vol. 1_Where I'm From.txt\u001b[0m*\r\n",
      "\u001b[01;32mJayZ_In My Lifetime Vol. 1_Where I'm From.txt.clean\u001b[0m*\r\n",
      "\u001b[01;32mJayZ_In My Lifetime Vol. 1_Who You Wit II.txt\u001b[0m*\r\n",
      "\u001b[01;32mJayZ_In My Lifetime Vol. 1_Who You Wit II.txt.clean\u001b[0m*\r\n",
      "\u001b[01;32mJayZ_In My Lifetime Vol. 1_You Must Love Me.txt\u001b[0m*\r\n",
      "\u001b[01;32mJayZ_In My Lifetime Vol. 1_You Must Love Me.txt.clean\u001b[0m*\r\n"
     ]
    }
   ],
   "source": [
    "ls JayZ"
   ]
  },
  {
   "cell_type": "code",
   "execution_count": 9,
   "metadata": {
    "collapsed": true
   },
   "outputs": [],
   "source": [
    "lyr_name = 'JayZ/JayZ_American Gangster_American Dreamin.txt'"
   ]
  },
  {
   "cell_type": "code",
   "execution_count": 21,
   "metadata": {
    "collapsed": false
   },
   "outputs": [],
   "source": [
    "# Step 1 - open a file (by deafult for reading)\n",
    "lyr_file = open(lyr_name)"
   ]
  },
  {
   "cell_type": "markdown",
   "metadata": {},
   "source": [
    "## Now we have 3 options for accessing the contents"
   ]
  },
  {
   "cell_type": "code",
   "execution_count": 19,
   "metadata": {
    "collapsed": true
   },
   "outputs": [],
   "source": [
    "american_drm_lyr = lyr_file.read()"
   ]
  },
  {
   "cell_type": "code",
   "execution_count": 14,
   "metadata": {
    "collapsed": true
   },
   "outputs": [],
   "source": [
    "# american_drm_lyr = [line for line in lyr_file]\n",
    "american_drm_lyr = lyr_file.readlines()"
   ]
  },
  {
   "cell_type": "code",
   "execution_count": 17,
   "metadata": {
    "collapsed": true
   },
   "outputs": [
    {
     "name": "stdout",
     "output_type": "stream",
     "text": [
      "Do something with Dreamed of you this morning \n",
      "\n",
      "Do something with Then came the dawn, and I thought you were here with me \n",
      "\n",
      "Do something with If you could only see \n",
      "\n",
      "Do something with How much i love you \n",
      "\n",
      "Do something with That's all that's all that's all baby \n",
      "\n",
      "Do something with Oh no, I'll never give up on you \n",
      "\n",
      "Do something with I never felt that before \n",
      "\n",
      "Do something with But there's always.... \n",
      "\n",
      "Do something with That's all that's all... \n",
      "\n",
      "Do something with  \n",
      "\n",
      "Do something with \n",
      "\n",
      "Do something with \n",
      "\n",
      "Do something with  \n",
      "\n",
      "Do something with Back-back-backing them Beemer's out \n",
      "\n",
      "Do something with Seems as our plans to get a grant \n",
      "\n",
      "Do something with Then go off to college, didn't pan or even out \n",
      "\n",
      "Do something with We need it now, we need a town \n",
      "\n",
      "Do something with We need a place to pitch, we need a mound \n",
      "\n",
      "Do something with For now, I'm just a lazy boy \n",
      "\n",
      "Do something with Big dreaming in my La-Z-Boy \n",
      "\n",
      "Do something with In the clouds of smoke, been playin' this Marvin \n",
      "\n",
      "Do something with Mama forgive me, should be thinkin' bout Harvard \n",
      "\n",
      "Do something with But that's too far away, niggas are starving \n",
      "\n",
      "Do something with Ain't nothin' wrong with aim, just gotta change the target \n",
      "\n",
      "Do something with I got dreams of baggin' snidd-ow the size of pillows \n",
      "\n",
      "Do something with I see pies everytime my eyes clidd-ose \n",
      "\n",
      "Do something with I see rides, sixes, i gotta get those \n",
      "\n",
      "Do something with Life's a bitch, I hope not to make her a widow \n",
      "\n",
      "Do something with  \n",
      "\n",
      "Do something with  [Chorus:] \n",
      "\n",
      "Do something with Oh no, I'll never give up on you \n",
      "\n",
      "Do something with I never felt that before \n",
      "\n",
      "Do something with Its just American dreamin' \n",
      "\n",
      "Do something with Oh no, I'll never give up on you \n",
      "\n",
      "Do something with I never felt that before \n",
      "\n",
      "Do something with Its just American dreamin' \n",
      "\n",
      "Do something with Oh no, I'll never give up on you \n",
      "\n",
      "Do something with I never felt that before \n",
      "\n",
      "Do something with American dreamin' \n",
      "\n",
      "Do something with But there's always.... \n",
      "\n",
      "Do something with That's all that's all... \n",
      "\n",
      "Do something with  \n",
      "\n",
      "Do something with Now see, the life's right there \n",
      "\n",
      "Do something with And it seems right there \n",
      "\n",
      "Do something with Its not quite near, \n",
      "\n",
      "Do something with And its not like we're professionals movin' the decimals \n",
      "\n",
      "Do something with Know where to cop? Nah! got a connect? No! \n",
      "\n",
      "Do something with Who under Heaven know how to be successful \n",
      "\n",
      "Do something with Need a Personal Jesus, I'm in Depeche Mode \n",
      "\n",
      "Do something with They say its celestial, its all in the stars \n",
      "\n",
      "Do something with It's like Tony LaRussa \n",
      "\n",
      "Do something with On how you play your cards \n",
      "\n",
      "Do something with You all ain't fucking with me! \n",
      "\n",
      "Do something with The ironies are \n",
      "\n",
      "Do something with And at all costs better avoid these bars \n",
      "\n",
      "Do something with Now lets start, on your mark \n",
      "\n",
      "Do something with Get set, lets go-get out the car! \n",
      "\n",
      "Do something with Going in circles, its a vicious cycle \n",
      "\n",
      "Do something with This is a crash course, this ain't high school \n",
      "\n",
      "Do something with Wake up, Muttley, you're dreamin' again \n",
      "\n",
      "Do something with Your own reality show, the season begins \n",
      "\n",
      "Do something with  \n",
      "\n",
      "Do something with  [Chorus] \n",
      "\n",
      "Do something with  \n",
      "\n",
      "Do something with Step One in this process, scramble up in your projects \n",
      "\n",
      "Do something with And head to the heights where big coke is processed \n",
      "\n",
      "Do something with You gotta convince 'em that you not from the Precinct \n",
      "\n",
      "Do something with Please speak slow, cause he no speakey no English \n",
      "\n",
      "Do something with If he takes a liking after a couple of trips \n",
      "\n",
      "Do something with If your money is straight, he's gonna give you consignment \n",
      "\n",
      "Do something with You're now in a game where only time can tell \n",
      "\n",
      "Do something with Survive the droughts, i wish you well... \n",
      "\n",
      "Do something with Survive the droughts? I wish you well? \n",
      "\n",
      "Do something with How sick am i? I wish you HEALTH \n",
      "\n",
      "Do something with I wish you wheels, i wish you wealth \n",
      "\n",
      "Do something with I wish you insight so you could see for yourself \n",
      "\n",
      "Do something with You could see the signs, when the jackers is schemin' \n",
      "\n",
      "Do something with And the cops is comin', you could read they mind \n",
      "\n",
      "Do something with You could see from behind, you could redefine \n",
      "\n",
      "Do something with The game as we know it, one dream at a time \n",
      "\n",
      "Do something with I'm American dreamin' \n",
      "\n",
      "Do something with  \n",
      "\n",
      "Do something with  [Chorus]\n"
     ]
    }
   ],
   "source": [
    "for line in lyr_file:\n",
    "    print(\"Do something with\", line)"
   ]
  },
  {
   "cell_type": "code",
   "execution_count": 20,
   "metadata": {
    "collapsed": true
   },
   "outputs": [
    {
     "data": {
      "text/plain": [
       "\"Dreamed of you this morning \\nThen came the dawn, and I thought you were here with me \\nIf you could only see \\nHow much i love you \\nThat's all that's all that's all baby \\nOh no, I'll never give up on you \\nI never felt that before \\nBut there's always.... \\nThat's all that's all... \\n \\n\\n\\n \\nBack-back-backing them Beemer's out \\nSeems as our plans to get a grant \\nThen go off to college, didn't pan or even out \\nWe need it now, we need a town \\nWe need a place to pitch, we need a mound \\nFor now, I'm just a lazy boy \\nBig dreaming in my La-Z-Boy \\nIn the clouds of smoke, been playin' this Marvin \\nMama forgive me, should be thinkin' bout Harvard \\nBut that's too far away, niggas are starving \\nAin't nothin' wrong with aim, just gotta change the target \\nI got dreams of baggin' snidd-ow the size of pillows \\nI see pies everytime my eyes clidd-ose \\nI see rides, sixes, i gotta get those \\nLife's a bitch, I hope not to make her a widow \\n \\n [Chorus:] \\nOh no, I'll never give up on you \\nI never felt that before \\nIts just American dreamin' \\nOh no, I'll never give up on you \\nI never felt that before \\nIts just American dreamin' \\nOh no, I'll never give up on you \\nI never felt that before \\nAmerican dreamin' \\nBut there's always.... \\nThat's all that's all... \\n \\nNow see, the life's right there \\nAnd it seems right there \\nIts not quite near, \\nAnd its not like we're professionals movin' the decimals \\nKnow where to cop? Nah! got a connect? No! \\nWho under Heaven know how to be successful \\nNeed a Personal Jesus, I'm in Depeche Mode \\nThey say its celestial, its all in the stars \\nIt's like Tony LaRussa \\nOn how you play your cards \\nYou all ain't fucking with me! \\nThe ironies are \\nAnd at all costs better avoid these bars \\nNow lets start, on your mark \\nGet set, lets go-get out the car! \\nGoing in circles, its a vicious cycle \\nThis is a crash course, this ain't high school \\nWake up, Muttley, you're dreamin' again \\nYour own reality show, the season begins \\n \\n [Chorus] \\n \\nStep One in this process, scramble up in your projects \\nAnd head to the heights where big coke is processed \\nYou gotta convince 'em that you not from the Precinct \\nPlease speak slow, cause he no speakey no English \\nIf he takes a liking after a couple of trips \\nIf your money is straight, he's gonna give you consignment \\nYou're now in a game where only time can tell \\nSurvive the droughts, i wish you well... \\nSurvive the droughts? I wish you well? \\nHow sick am i? I wish you HEALTH \\nI wish you wheels, i wish you wealth \\nI wish you insight so you could see for yourself \\nYou could see the signs, when the jackers is schemin' \\nAnd the cops is comin', you could read they mind \\nYou could see from behind, you could redefine \\nThe game as we know it, one dream at a time \\nI'm American dreamin' \\n \\n [Chorus]\""
      ]
     },
     "execution_count": 20,
     "metadata": {},
     "output_type": "execute_result"
    }
   ],
   "source": [
    "american_drm_lyr"
   ]
  },
  {
   "cell_type": "code",
   "execution_count": 23,
   "metadata": {
    "collapsed": false
   },
   "outputs": [],
   "source": [
    "toks = nltk.word_tokenize(american_drm_lyr)"
   ]
  },
  {
   "cell_type": "code",
   "execution_count": 25,
   "metadata": {
    "collapsed": false
   },
   "outputs": [],
   "source": [
    "lyr_collocations = nltk.collocations.BigramCollocationFinder.from_words(toks)"
   ]
  },
  {
   "cell_type": "code",
   "execution_count": 28,
   "metadata": {
    "collapsed": true
   },
   "outputs": [],
   "source": [
    "bigram_measures = nltk.collocations.BigramAssocMeasures()"
   ]
  },
  {
   "cell_type": "code",
   "execution_count": 29,
   "metadata": {
    "collapsed": false
   },
   "outputs": [
    {
     "data": {
      "text/plain": [
       "[('Back-back-backing', 'them'),\n",
       " ('Big', 'dreaming'),\n",
       " ('Depeche', 'Mode'),\n",
       " ('Get', 'set'),\n",
       " ('La-Z-Boy', 'In'),\n",
       " ('LaRussa', 'On'),\n",
       " ('Mama', 'forgive'),\n",
       " ('Marvin', 'Mama'),\n",
       " ('Mode', 'They'),\n",
       " ('Personal', 'Jesus')]"
      ]
     },
     "execution_count": 29,
     "metadata": {},
     "output_type": "execute_result"
    }
   ],
   "source": [
    "lyr_collocations.nbest(bigram_measures.pmi, 10)"
   ]
  },
  {
   "cell_type": "code",
   "execution_count": null,
   "metadata": {
    "collapsed": true
   },
   "outputs": [],
   "source": []
  }
 ],
 "metadata": {
  "kernelspec": {
   "display_name": "Python 3",
   "language": "python",
   "name": "python3"
  },
  "language_info": {
   "codemirror_mode": {
    "name": "ipython",
    "version": 3
   },
   "file_extension": ".py",
   "mimetype": "text/x-python",
   "name": "python",
   "nbconvert_exporter": "python",
   "pygments_lexer": "ipython3",
   "version": "3.4.3"
  }
 },
 "nbformat": 4,
 "nbformat_minor": 0
}
