{
 "cells": [
  {
   "cell_type": "markdown",
   "metadata": {},
   "source": [
    "# Intermediate Python Lesson 1: Analyzing Mosquito Data\n",
    "\n",
    "## Introduction\n",
    "\n",
    "\n",
    "This material assumes that you have programmed before. This first\n",
    "lecture provides a quick introduction to programming in Python for\n",
    "those who either haven't used Python before or need a quick\n",
    "refresher.\n",
    "\n",
    "Let's start with a hypothetical problem we want to solve. We are\n",
    "interested in understanding the relationship between the weather and\n",
    "the number of mosquitos occuring in a particular year so that we can\n",
    "plan mosquito control measures accordingly. Since we want to apply\n",
    "these mosquito control measures at a number of different sites we\n",
    "need to understand both the relationship at a particular site and\n",
    "whether or not it is consistent across sites. The data we have to\n",
    "address this problem comes from the local government and are stored\n",
    "in tables in comma-separated values (CSV) files. Each file holds the\n",
    "data for a single location, each row holds the information for a\n",
    "single year at that location, and the columns hold the data on both\n",
    "mosquito numbers and the average temperature and rainfall from the\n",
    "beginning of mosquito breeding season. The first few rows of our\n",
    "first file look like:\n",
    "\n",
    "    year,temperature,rainfall,mosquitos\n",
    "    2001,87,222,198\n",
    "    2002,72,103,105\n",
    "    2003,77,176,166\n",
    "\n",
    "\n",
    "## Learning Objectives\n",
    "\n",
    "* Conduct variable assignment, looping, and conditionals in Python\n",
    "* Use an external Python library\n",
    "* Read tabular data from a file\n",
    "* Subset and perform analysis on data\n",
    "* Display simple graphs\n",
    "\n",
    "## Loading Data\n",
    "\n",
    "\n",
    "In order to load the data, we need to import a library called Pandas\n",
    "that knows how to operate on tables of data."
   ]
  },
  {
   "cell_type": "code",
   "execution_count": null,
   "metadata": {
    "attributes": {
     "classes": [
      " {.python"
     ],
     "id": ""
    },
    "collapsed": true
   },
   "outputs": [],
   "source": [
    "import pandas"
   ]
  },
  {
   "cell_type": "markdown",
   "metadata": {},
   "source": [
    "We can now use Pandas to read our data file."
   ]
  },
  {
   "cell_type": "code",
   "execution_count": null,
   "metadata": {
    "attributes": {
     "classes": [
      " {.python"
     ],
     "id": ""
    },
    "collapsed": false
   },
   "outputs": [],
   "source": [
    "pandas.read_csv('intermediate-data/A1_mosquito_data.csv')"
   ]
  },
  {
   "cell_type": "markdown",
   "metadata": {},
   "source": [
    "The `read_csv()` function belongs to the `pandas` library. In order\n",
    "to run it we need to tell Python that it is part of `pandas` and we\n",
    "do this using the dot notation, which is used everywhere in Python\n",
    "to refer to parts of larger things.\n",
    "\n",
    "When we are finished typing and press Shift+Enter, the notebook runs\n",
    "our command and shows us its output. In this case, the output is the\n",
    "data we just loaded.\n",
    "\n",
    "Our call to `pandas.read_csv()` read data into memory, but didn't\n",
    "save it anywhere. To do that, we need to assign the array to a\n",
    "variable. In Python we use `=` to assign a new value to a variable\n",
    "like this:"
   ]
  },
  {
   "cell_type": "code",
   "execution_count": null,
   "metadata": {
    "attributes": {
     "classes": [
      " {.python"
     ],
     "id": ""
    },
    "collapsed": false
   },
   "outputs": [],
   "source": [
    "data = pandas.read_csv('intermediate-data/A1_mosquito_data.csv')"
   ]
  },
  {
   "cell_type": "markdown",
   "metadata": {},
   "source": [
    "This statement doesn't produce any output because assignment doesn't\n",
    "display anything. If we want to check that our data has been loaded,\n",
    "we can print the variable's value:"
   ]
  },
  {
   "cell_type": "code",
   "execution_count": null,
   "metadata": {
    "attributes": {
     "classes": [
      " {.python"
     ],
     "id": ""
    },
    "collapsed": false
   },
   "outputs": [],
   "source": [
    "print(data)"
   ]
  },
  {
   "cell_type": "markdown",
   "metadata": {},
   "source": [
    "`print(data)` tells Python to display the text. Alternatively we\n",
    "could just include `data` as the last value in a code cell:"
   ]
  },
  {
   "cell_type": "code",
   "execution_count": null,
   "metadata": {
    "attributes": {
     "classes": [
      " {.python"
     ],
     "id": ""
    },
    "collapsed": false
   },
   "outputs": [],
   "source": [
    "data"
   ]
  },
  {
   "cell_type": "markdown",
   "metadata": {},
   "source": [
    "This tells the IPython Notebook to display the `data` object, which\n",
    "is why we see a pretty formatted table.\n",
    "\n",
    "\n",
    "## Manipulating data\n",
    "\n",
    "Once we have imported the data we can start doing things with it.\n",
    "First, let's ask what type of thing `data` refers to:"
   ]
  },
  {
   "cell_type": "code",
   "execution_count": null,
   "metadata": {
    "attributes": {
     "classes": [
      " {.python"
     ],
     "id": ""
    },
    "collapsed": false
   },
   "outputs": [],
   "source": [
    "type(data)"
   ]
  },
  {
   "cell_type": "markdown",
   "metadata": {},
   "source": [
    "The data is stored in a data structure called a DataFrame. There are\n",
    "other kinds of data structures that are also commonly used in\n",
    "scientific computing including Numpy arrays, and Numpy matrices,\n",
    "which can be used for doing linear algebra.\n",
    "\n",
    "\n",
    "We can select an individual column of data using its name:"
   ]
  },
  {
   "cell_type": "code",
   "execution_count": null,
   "metadata": {
    "attributes": {
     "classes": [
      " {.python"
     ],
     "id": ""
    },
    "collapsed": false
   },
   "outputs": [],
   "source": [
    "data['year']"
   ]
  },
  {
   "cell_type": "markdown",
   "metadata": {},
   "source": [
    "Or we can select several columns of data at once:"
   ]
  },
  {
   "cell_type": "code",
   "execution_count": null,
   "metadata": {
    "attributes": {
     "classes": [
      " {.python"
     ],
     "id": ""
    },
    "collapsed": false
   },
   "outputs": [],
   "source": [
    "data[['rainfall', 'temperature']]"
   ]
  },
  {
   "cell_type": "markdown",
   "metadata": {},
   "source": [
    "We can also select subsets of rows using slicing. Say we just want\n",
    "the first two rows of data:"
   ]
  },
  {
   "cell_type": "code",
   "execution_count": null,
   "metadata": {
    "attributes": {
     "classes": [
      " {.python"
     ],
     "id": ""
    },
    "collapsed": false
   },
   "outputs": [],
   "source": [
    "data[0:2]"
   ]
  },
  {
   "cell_type": "markdown",
   "metadata": {},
   "source": [
    "There are a couple of important things to note here. First, Python\n",
    "indexing starts at zero. In contrast, programming languages like R\n",
    "and MATLAB start counting at 1, because that's what human beings\n",
    "have done for thousands of years. Languages in the C family\n",
    "(including C++, Java, Perl, and Python) count from 0 because that's\n",
    "simpler for computers to do. This means that if we have 5 things in\n",
    "Python they are numbered 0, 1, 2, 3, 4, and the first row in a data\n",
    "frame is always row 0.\n",
    "\n",
    "The other thing to note is that the subset of rows starts at the\n",
    "first value and goes up to, but does not include, the second value.\n",
    "Again, the up-to-but-not-including takes a bit of getting used to,\n",
    "but the rule is that the difference between the upper and lower\n",
    "bounds is the number of values in the slice.\n",
    "\n",
    "\n",
    "One thing that we can't do with this syntax is directly ask for the\n",
    "data from a single row:"
   ]
  },
  {
   "cell_type": "code",
   "execution_count": null,
   "metadata": {
    "attributes": {
     "classes": [
      " {.python"
     ],
     "id": ""
    },
    "collapsed": false
   },
   "outputs": [],
   "source": [
    "data[1]"
   ]
  },
  {
   "cell_type": "markdown",
   "metadata": {},
   "source": [
    "This is because there are several things that we could mean by\n",
    "`data[1]` so if we want a single row we can either take a slice that\n",
    "returns a single row:"
   ]
  },
  {
   "cell_type": "code",
   "execution_count": null,
   "metadata": {
    "attributes": {
     "classes": [
      " {.python"
     ],
     "id": ""
    },
    "collapsed": false
   },
   "outputs": [],
   "source": [
    "data[1:2]"
   ]
  },
  {
   "cell_type": "markdown",
   "metadata": {},
   "source": [
    "or use the `.iloc` method, which stands for \"integer location\" since\n",
    "we are looking up the row based on its integer index."
   ]
  },
  {
   "cell_type": "code",
   "execution_count": null,
   "metadata": {
    "attributes": {
     "classes": [
      " {.python"
     ],
     "id": ""
    },
    "collapsed": false
   },
   "outputs": [],
   "source": [
    "data.iloc[1]"
   ]
  },
  {
   "cell_type": "markdown",
   "metadata": {},
   "source": [
    "We can also use this same syntax for getting larger subsets of rows:"
   ]
  },
  {
   "cell_type": "code",
   "execution_count": null,
   "metadata": {
    "attributes": {
     "classes": [
      " {.python"
     ],
     "id": ""
    },
    "collapsed": false
   },
   "outputs": [],
   "source": [
    "data.iloc[1:3]"
   ]
  },
  {
   "cell_type": "markdown",
   "metadata": {},
   "source": [
    "We can also subset the data based on the value of other rows:"
   ]
  },
  {
   "cell_type": "code",
   "execution_count": null,
   "metadata": {
    "attributes": {
     "classes": [
      " {.python"
     ],
     "id": ""
    },
    "collapsed": false
   },
   "outputs": [],
   "source": [
    "data['temperature'][data['year'] > 2005]"
   ]
  },
  {
   "cell_type": "markdown",
   "metadata": {},
   "source": [
    "Data frames also know how to perform common mathematical operations\n",
    "on their values. If we want to find the average value for each\n",
    "variable, we can just ask the data frame for its mean values"
   ]
  },
  {
   "cell_type": "code",
   "execution_count": null,
   "metadata": {
    "attributes": {
     "classes": [
      " {.python"
     ],
     "id": ""
    },
    "collapsed": false
   },
   "outputs": [],
   "source": [
    "data.mean()"
   ]
  },
  {
   "cell_type": "markdown",
   "metadata": {},
   "source": [
    "Data frames have lots of useful methods:"
   ]
  },
  {
   "cell_type": "code",
   "execution_count": null,
   "metadata": {
    "attributes": {
     "classes": [
      " {.python"
     ],
     "id": ""
    },
    "collapsed": false
   },
   "outputs": [],
   "source": [
    "data.max()"
   ]
  },
  {
   "cell_type": "code",
   "execution_count": null,
   "metadata": {
    "attributes": {
     "classes": [
      " {.python"
     ],
     "id": ""
    },
    "collapsed": false
   },
   "outputs": [],
   "source": [
    "data['temperature'].min()"
   ]
  },
  {
   "cell_type": "code",
   "execution_count": null,
   "metadata": {
    "attributes": {
     "classes": [
      " {.python"
     ],
     "id": ""
    },
    "collapsed": false
   },
   "outputs": [],
   "source": [
    "data['mosquitos'][1:3].std()"
   ]
  },
  {
   "cell_type": "markdown",
   "metadata": {},
   "source": [
    "## Challenge\n",
    "\n",
    "> Import the data from `A2_mosquito_data.csv`, create a new variable\n",
    "> that holds a data frame with only the weather data, and print the\n",
    "> means and standard deviations for the weather variables."
   ]
  },
  {
   "cell_type": "code",
   "execution_count": null,
   "metadata": {
    "collapsed": true
   },
   "outputs": [],
   "source": []
  },
  {
   "cell_type": "markdown",
   "metadata": {},
   "source": [
    "## Loops\n",
    "\n",
    "\n",
    "Once we have some data we often want to be able to loop over it to\n",
    "perform the same operation repeatedly.  A `for` loop in Python takes\n",
    "the general form:\n",
    "\n",
    "```python\n",
    "for item in list:\n",
    "    do_something\n",
    "```\n",
    "\n",
    "So if we want to loop over the temperatures and print out their\n",
    "values in degrees Celsius (instead of Farenheit) we can use:"
   ]
  },
  {
   "cell_type": "code",
   "execution_count": null,
   "metadata": {
    "attributes": {
     "classes": [
      " {.python"
     ],
     "id": ""
    },
    "collapsed": false
   },
   "outputs": [],
   "source": [
    "temps = data['temperature']\n",
    "for temp_in_f in temps:\n",
    "    temp_in_c = (temp_in_f - 32) * 5 / 9.0\n",
    "    print(temp_in_c)"
   ]
  },
  {
   "cell_type": "markdown",
   "metadata": {},
   "source": [
    "That looks good, but why did we use 9.0 instead of 9? If you try changing it, you'll still get the same results.\n",
    "\n",
    "Computers store two different kinds of numbers: integers and floating point numbers (or floats). `9` creates an integer, `9.0` creates a float. In Python 2, dividing one integer by another would throw away the remainder, so ``5/9`` would give 0. In Python 3, division does what you'd expect - the result is a floating point number. But it's a good idea to be careful, so we made sure that at least one of the numbers for division is a float."
   ]
  },
  {
   "cell_type": "markdown",
   "metadata": {},
   "source": [
    "## Conditionals\n",
    "\n",
    "The other standard thing we need to know how to do in Python is\n",
    "conditionals, or if/then/else statements. In Python the basic syntax\n",
    "is:\n",
    "\n",
    "```python\n",
    "if condition:\n",
    "    do_something\n",
    "```\n",
    "\n",
    "So if we want to loop over the temperatures and print out only those\n",
    "temperatures that are greater than 80 degrees we would use:"
   ]
  },
  {
   "cell_type": "code",
   "execution_count": null,
   "metadata": {
    "attributes": {
     "classes": [
      " {.python"
     ],
     "id": ""
    },
    "collapsed": false
   },
   "outputs": [],
   "source": [
    "temp = data['temperature'][0]\n",
    "if temp > 75:\n",
    "    print(\"The temperature is greater than 75\")"
   ]
  },
  {
   "cell_type": "markdown",
   "metadata": {},
   "source": [
    "We can also use `==` for equality, `<=` for less than or equal to,\n",
    "`>=` for greater than or equal to, and `!=` for not equal to.\n",
    "\n",
    "Additional conditions can be handled using `elif` and `else`:"
   ]
  },
  {
   "cell_type": "code",
   "execution_count": null,
   "metadata": {
    "attributes": {
     "classes": [
      " {.python"
     ],
     "id": ""
    },
    "collapsed": false
   },
   "outputs": [],
   "source": [
    "temp = data['temperature'][0]\n",
    "if temp < 80:\n",
    "    print(\"The temperature is < 80\")\n",
    "elif temp > 80:\n",
    "    print(\"The temperature is > 80\")\n",
    "else:\n",
    "    print(\"The temperature is equal to 80\")"
   ]
  },
  {
   "cell_type": "markdown",
   "metadata": {},
   "source": [
    "## Challenge\n",
    "\n",
    "> Import the data from `A2_mosquito_data.csv`, determine the mean\n",
    "> temperate, and loop over the temperature values. For each value\n",
    "> print out whether it is greater than the mean, less than the mean,\n",
    "> or equal to the mean."
   ]
  },
  {
   "cell_type": "code",
   "execution_count": null,
   "metadata": {
    "collapsed": true
   },
   "outputs": [],
   "source": []
  },
  {
   "cell_type": "markdown",
   "metadata": {},
   "source": [
    "## Plotting\n",
    "\n",
    "The mathematician Richard Hamming once said, \"The purpose of\n",
    "computing is insight, not numbers,\" and the best way to develop\n",
    "insight is often to visualize data. The main plotting library in\n",
    "Python is `matplotlib`. To get started, let's tell the IPython\n",
    "Notebook that we want our plots displayed inline, rather than in a\n",
    "separate viewing window:"
   ]
  },
  {
   "cell_type": "code",
   "execution_count": null,
   "metadata": {
    "attributes": {
     "classes": [
      " {.python"
     ],
     "id": ""
    },
    "collapsed": true
   },
   "outputs": [],
   "source": [
    "%matplotlib inline"
   ]
  },
  {
   "cell_type": "markdown",
   "metadata": {},
   "source": [
    "The `%` at the start of the line signals that this is a command for\n",
    "the notebook, rather than a statement in Python. Next, we will\n",
    "import the `pyplot` module from `matplotlib`, but since `pyplot` is\n",
    "a fairly long name to type repeatedly let's give it an alias."
   ]
  },
  {
   "cell_type": "code",
   "execution_count": null,
   "metadata": {
    "attributes": {
     "classes": [
      " {.python"
     ],
     "id": ""
    },
    "collapsed": true
   },
   "outputs": [],
   "source": [
    "from matplotlib import pyplot as plt"
   ]
  },
  {
   "cell_type": "markdown",
   "metadata": {},
   "source": [
    "This import statement shows two new things. First, we can import\n",
    "part of a library by using the `from library import submodule`\n",
    "syntax. Second, we can use a different name to refer to the imported\n",
    "library by using `as newname`.\n",
    "\n",
    "Now, let's make a simple plot showing how the number of mosquitos\n",
    "varies over time. We'll use the site you've been doing exercises\n",
    "with since it has a longer time-series."
   ]
  },
  {
   "cell_type": "code",
   "execution_count": null,
   "metadata": {
    "attributes": {
     "classes": [
      " {.python"
     ],
     "id": ""
    },
    "collapsed": false
   },
   "outputs": [],
   "source": [
    "data = pandas.read_csv('intermediate-data/A2_mosquito_data.csv')\n",
    "plt.plot(data['year'], data['mosquitos'])"
   ]
  },
  {
   "cell_type": "markdown",
   "metadata": {},
   "source": [
    "More complicated plots can be created by adding a little additional\n",
    "information. Let's say we want to look at how the different weather\n",
    "variables vary over time."
   ]
  },
  {
   "cell_type": "code",
   "execution_count": null,
   "metadata": {
    "attributes": {
     "classes": [
      " {.python"
     ],
     "id": ""
    },
    "collapsed": false
   },
   "outputs": [],
   "source": [
    "plt.figure(figsize=(10.0, 3.0))\n",
    "\n",
    "plt.subplot(1, 2, 1)\n",
    "plt.plot(data['year'], data['temperature'], 'ro-')\n",
    "plt.xlabel('Year')\n",
    "plt.ylabel('Temperature')\n",
    "\n",
    "plt.subplot(1, 2, 2)\n",
    "plt.plot(data['year'], data['rainfall'], 'bs-')\n",
    "plt.xlabel('Year')\n",
    "plt.ylabel('Rain Fall')\n",
    "plt.show()"
   ]
  },
  {
   "cell_type": "markdown",
   "metadata": {},
   "source": [
    "## Challenge\n",
    " \n",
    "> Using the data in `A2_mosquito_data.csv`, plot the relationship\n",
    "> between the number of mosquitos and temperature and the number of\n",
    "> mosquitos and rainfall."
   ]
  },
  {
   "cell_type": "code",
   "execution_count": null,
   "metadata": {
    "collapsed": true
   },
   "outputs": [],
   "source": []
  },
  {
   "cell_type": "markdown",
   "metadata": {},
   "source": [
    "### Key Points\n",
    "\n",
    "\n",
    "*   Import a library into a program using `import libraryname`.\n",
    "*   Use the `pandas` library to work with data tables in Python.\n",
    "*   Use `variable = value` to assign a value to a variable.\n",
    "*   Use `print something` to display the value of `something`.\n",
    "*   Use `dataframe['columnname']` to select a column of data.\n",
    "*   Use `dataframe[start_row:stop_row]` to select rows from a data frame.\n",
    "*   Indices start at 0, not 1.\n",
    "*   Use `dataframe.mean()`, `dataframe.max()`, and `dataframe.min()`\n",
    "    to calculate simple statistics.\n",
    "*   Use `for x in list:` to loop over values\n",
    "*   Use `if condition:` to make conditional decisions\n",
    "*   Use the `pyplot` library from `matplotlib` for creating simple\n",
    "    visualizations.\n",
    "\n",
    "## Next steps\n",
    "\n",
    "\n",
    "With the requisite Python background out of the way, now we're ready\n",
    "to dig in to analyzing our data, and along the way learn how to\n",
    "write better code, more efficiently, that is more likely to be\n",
    "correct."
   ]
  },
  {
   "cell_type": "code",
   "execution_count": null,
   "metadata": {
    "collapsed": true
   },
   "outputs": [],
   "source": []
  }
 ],
 "metadata": {
  "kernelspec": {
   "display_name": "Python 2",
   "language": "python",
   "name": "python2"
  },
  "language_info": {
   "codemirror_mode": {
    "name": "ipython",
    "version": 2
   },
   "file_extension": ".py",
   "mimetype": "text/x-python",
   "name": "python",
   "nbconvert_exporter": "python",
   "pygments_lexer": "ipython2",
   "version": "2.7.9"
  }
 },
 "nbformat": 4,
 "nbformat_minor": 0
}
